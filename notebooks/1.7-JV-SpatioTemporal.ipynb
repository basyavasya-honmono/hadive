{
 "cells": [
  {
   "cell_type": "markdown",
   "metadata": {},
   "source": [
    "# Imports"
   ]
  },
  {
   "cell_type": "code",
   "execution_count": 10,
   "metadata": {
    "collapsed": false
   },
   "outputs": [],
   "source": [
    "import os\n",
    "import pyproj\n",
    "import feather\n",
    "import numpy as np\n",
    "import pandas as pd\n",
    "import seaborn as sns\n",
    "import geopandas as gp\n",
    "import matplotlib.pyplot as plt\n",
    "from shapely.geometry import Point\n",
    "from IPython.display import clear_output\n",
    "%matplotlib inline"
   ]
  },
  {
   "cell_type": "markdown",
   "metadata": {},
   "source": [
    "# Load Data\n",
    "### Census Tract"
   ]
  },
  {
   "cell_type": "code",
   "execution_count": 145,
   "metadata": {
    "collapsed": false
   },
   "outputs": [
    {
     "data": {
      "text/html": [
       "<div>\n",
       "<style>\n",
       "    .dataframe thead tr:only-child th {\n",
       "        text-align: right;\n",
       "    }\n",
       "\n",
       "    .dataframe thead th {\n",
       "        text-align: left;\n",
       "    }\n",
       "\n",
       "    .dataframe tbody tr th {\n",
       "        vertical-align: top;\n",
       "    }\n",
       "</style>\n",
       "<table border=\"1\" class=\"dataframe\">\n",
       "  <thead>\n",
       "    <tr style=\"text-align: right;\">\n",
       "      <th></th>\n",
       "      <th>BoroCT2010</th>\n",
       "      <th>BoroCode</th>\n",
       "      <th>BoroName</th>\n",
       "      <th>CDEligibil</th>\n",
       "      <th>CT2010</th>\n",
       "      <th>CTLabel</th>\n",
       "      <th>NTACode</th>\n",
       "      <th>NTAName</th>\n",
       "      <th>PUMA</th>\n",
       "      <th>Shape_Area</th>\n",
       "      <th>Shape_Leng</th>\n",
       "      <th>geometry</th>\n",
       "    </tr>\n",
       "  </thead>\n",
       "  <tbody>\n",
       "    <tr>\n",
       "      <th>1</th>\n",
       "      <td>1009800</td>\n",
       "      <td>1</td>\n",
       "      <td>Manhattan</td>\n",
       "      <td>I</td>\n",
       "      <td>009800</td>\n",
       "      <td>98</td>\n",
       "      <td>MN19</td>\n",
       "      <td>Turtle Bay-East Midtown</td>\n",
       "      <td>3808</td>\n",
       "      <td>1.906016e+06</td>\n",
       "      <td>5534.199811</td>\n",
       "      <td>POLYGON ((994133.507019043 214848.8975830078, ...</td>\n",
       "    </tr>\n",
       "    <tr>\n",
       "      <th>2</th>\n",
       "      <td>1010000</td>\n",
       "      <td>1</td>\n",
       "      <td>Manhattan</td>\n",
       "      <td>I</td>\n",
       "      <td>010000</td>\n",
       "      <td>100</td>\n",
       "      <td>MN19</td>\n",
       "      <td>Turtle Bay-East Midtown</td>\n",
       "      <td>3808</td>\n",
       "      <td>1.860938e+06</td>\n",
       "      <td>5692.168737</td>\n",
       "      <td>POLYGON ((993108.3057861328 216013.1307983398,...</td>\n",
       "    </tr>\n",
       "  </tbody>\n",
       "</table>\n",
       "</div>"
      ],
      "text/plain": [
       "  BoroCT2010 BoroCode   BoroName CDEligibil  CT2010 CTLabel NTACode  \\\n",
       "1    1009800        1  Manhattan          I  009800      98    MN19   \n",
       "2    1010000        1  Manhattan          I  010000     100    MN19   \n",
       "\n",
       "                   NTAName  PUMA    Shape_Area   Shape_Leng  \\\n",
       "1  Turtle Bay-East Midtown  3808  1.906016e+06  5534.199811   \n",
       "2  Turtle Bay-East Midtown  3808  1.860938e+06  5692.168737   \n",
       "\n",
       "                                            geometry  \n",
       "1  POLYGON ((994133.507019043 214848.8975830078, ...  \n",
       "2  POLYGON ((993108.3057861328 216013.1307983398,...  "
      ]
     },
     "execution_count": 145,
     "metadata": {},
     "output_type": "execute_result"
    }
   ],
   "source": [
    "ct = gp.read_file(\"../data/external/nyct2010_17b/nyct2010.shp\")\n",
    "ct = ct[ct.BoroName == \"Manhattan\"]\n",
    "ct.head(2)"
   ]
  },
  {
   "cell_type": "markdown",
   "metadata": {},
   "source": [
    "### MapPLUTO"
   ]
  },
  {
   "cell_type": "code",
   "execution_count": 12,
   "metadata": {
    "collapsed": false
   },
   "outputs": [
    {
     "data": {
      "text/html": [
       "<div>\n",
       "<style>\n",
       "    .dataframe thead tr:only-child th {\n",
       "        text-align: right;\n",
       "    }\n",
       "\n",
       "    .dataframe thead th {\n",
       "        text-align: left;\n",
       "    }\n",
       "\n",
       "    .dataframe tbody tr th {\n",
       "        vertical-align: top;\n",
       "    }\n",
       "</style>\n",
       "<table border=\"1\" class=\"dataframe\">\n",
       "  <thead>\n",
       "    <tr style=\"text-align: right;\">\n",
       "      <th></th>\n",
       "      <th>APPBBL</th>\n",
       "      <th>APPDate</th>\n",
       "      <th>Address</th>\n",
       "      <th>AreaSource</th>\n",
       "      <th>AssessLand</th>\n",
       "      <th>AssessTot</th>\n",
       "      <th>BBL</th>\n",
       "      <th>BldgArea</th>\n",
       "      <th>BldgClass</th>\n",
       "      <th>BldgDepth</th>\n",
       "      <th>...</th>\n",
       "      <th>YearBuilt</th>\n",
       "      <th>ZMCode</th>\n",
       "      <th>ZipCode</th>\n",
       "      <th>ZoneDist1</th>\n",
       "      <th>ZoneDist2</th>\n",
       "      <th>ZoneDist3</th>\n",
       "      <th>ZoneDist4</th>\n",
       "      <th>ZoneMap</th>\n",
       "      <th>geometry</th>\n",
       "      <th>BoroCT2010</th>\n",
       "    </tr>\n",
       "  </thead>\n",
       "  <tbody>\n",
       "    <tr>\n",
       "      <th>0</th>\n",
       "      <td>0.000000e+00</td>\n",
       "      <td>None</td>\n",
       "      <td>1 ELLIS ISLAND</td>\n",
       "      <td>2</td>\n",
       "      <td>14972400.0</td>\n",
       "      <td>108450450.0</td>\n",
       "      <td>1.000010e+09</td>\n",
       "      <td>603130</td>\n",
       "      <td>Z9</td>\n",
       "      <td>0.0</td>\n",
       "      <td>...</td>\n",
       "      <td>1900</td>\n",
       "      <td>None</td>\n",
       "      <td>10004</td>\n",
       "      <td>R3-2</td>\n",
       "      <td>None</td>\n",
       "      <td>None</td>\n",
       "      <td>None</td>\n",
       "      <td>12b</td>\n",
       "      <td>POLYGON ((973154.7117999941 194614.3315999955,...</td>\n",
       "      <td>0</td>\n",
       "    </tr>\n",
       "    <tr>\n",
       "      <th>1</th>\n",
       "      <td>1.000090e+09</td>\n",
       "      <td>12/26/1985</td>\n",
       "      <td>17 STATE STREET</td>\n",
       "      <td>2</td>\n",
       "      <td>14670000.0</td>\n",
       "      <td>59250600.0</td>\n",
       "      <td>1.000090e+09</td>\n",
       "      <td>544015</td>\n",
       "      <td>O4</td>\n",
       "      <td>118.0</td>\n",
       "      <td>...</td>\n",
       "      <td>1987</td>\n",
       "      <td>None</td>\n",
       "      <td>10004</td>\n",
       "      <td>C5-5</td>\n",
       "      <td>None</td>\n",
       "      <td>None</td>\n",
       "      <td>None</td>\n",
       "      <td>12b</td>\n",
       "      <td>POLYGON ((980492.3622000068 195423.9451999962,...</td>\n",
       "      <td>1000900</td>\n",
       "    </tr>\n",
       "  </tbody>\n",
       "</table>\n",
       "<p>2 rows × 89 columns</p>\n",
       "</div>"
      ],
      "text/plain": [
       "         APPBBL     APPDate          Address AreaSource  AssessLand  \\\n",
       "0  0.000000e+00        None   1 ELLIS ISLAND          2  14972400.0   \n",
       "1  1.000090e+09  12/26/1985  17 STATE STREET          2  14670000.0   \n",
       "\n",
       "     AssessTot           BBL  BldgArea BldgClass  BldgDepth     ...      \\\n",
       "0  108450450.0  1.000010e+09    603130        Z9        0.0     ...       \n",
       "1   59250600.0  1.000090e+09    544015        O4      118.0     ...       \n",
       "\n",
       "   YearBuilt  ZMCode  ZipCode ZoneDist1 ZoneDist2  ZoneDist3 ZoneDist4  \\\n",
       "0       1900    None    10004      R3-2      None       None      None   \n",
       "1       1987    None    10004      C5-5      None       None      None   \n",
       "\n",
       "   ZoneMap                                           geometry  BoroCT2010  \n",
       "0      12b  POLYGON ((973154.7117999941 194614.3315999955,...           0  \n",
       "1      12b  POLYGON ((980492.3622000068 195423.9451999962,...     1000900  \n",
       "\n",
       "[2 rows x 89 columns]"
      ]
     },
     "execution_count": 12,
     "metadata": {},
     "output_type": "execute_result"
    }
   ],
   "source": [
    "mn = gp.read_file(\"../data/external/mappluto/MN/MNMapPLUTO.shp\")\n",
    "mn_ct_file = \"../data/results/mn_ct.npy\"\n",
    "\n",
    "if not os.path.isfile(mn_ct_file):\n",
    "    mn_x, mn_y = np.array([(i.x, i.y) for i in mn.centroid]).T\n",
    "    mn_ct = []\n",
    "    nmn = len(mn_x)\n",
    "    \n",
    "    for ii in range(nmn):\n",
    "        if (ii + 1) % 100 == 0:\n",
    "            print (\"{0} of {1}\".format(ii + 1, nmn))\n",
    "            clear_output(wait=True)\n",
    "            \n",
    "        pnt  = Point(mn_x[ii], mn_y[ii])\n",
    "        cont = ct[ct.contains(pnt)]\n",
    "        \n",
    "        if len(cont) == 1:\n",
    "            mn_ct.append(cont.iloc[0].BoroCT2010)\n",
    "        elif len(cont) == 0:\n",
    "            mn_ct.append(0)\n",
    "            print(\"Census Tract not found for {0}!!!\".format(mn.iloc[ii].BBL))\n",
    "            clear_output(wait=True)\n",
    "        else:\n",
    "            mn_ct.append(0)\n",
    "            print(\"{0} Census Tracts found for {1}!!!\".format(len(cont), mn.iloc[ii].BBL))\n",
    "            clear_output(wait=True)\n",
    "            \n",
    "    np.save(mn_ct_file, np.array(mn_ct))\n",
    "\n",
    "else:\n",
    "    mn_ct = np.load(mn_ct_file)\n",
    "\n",
    "mn[\"BoroCT2010\"] = mn_ct\n",
    "mn.head(2)"
   ]
  },
  {
   "cell_type": "markdown",
   "metadata": {},
   "source": [
    "### Precipitation "
   ]
  },
  {
   "cell_type": "code",
   "execution_count": 13,
   "metadata": {
    "collapsed": false
   },
   "outputs": [
    {
     "data": {
      "text/html": [
       "<div>\n",
       "<style>\n",
       "    .dataframe thead tr:only-child th {\n",
       "        text-align: right;\n",
       "    }\n",
       "\n",
       "    .dataframe thead th {\n",
       "        text-align: left;\n",
       "    }\n",
       "\n",
       "    .dataframe tbody tr th {\n",
       "        vertical-align: top;\n",
       "    }\n",
       "</style>\n",
       "<table border=\"1\" class=\"dataframe\">\n",
       "  <thead>\n",
       "    <tr style=\"text-align: right;\">\n",
       "      <th></th>\n",
       "      <th>DATE</th>\n",
       "      <th>PRCP</th>\n",
       "      <th>d</th>\n",
       "    </tr>\n",
       "  </thead>\n",
       "  <tbody>\n",
       "    <tr>\n",
       "      <th>247</th>\n",
       "      <td>2017-09-05</td>\n",
       "      <td>0.0</td>\n",
       "      <td>2017-09-05</td>\n",
       "    </tr>\n",
       "    <tr>\n",
       "      <th>246</th>\n",
       "      <td>2017-09-04</td>\n",
       "      <td>0.0</td>\n",
       "      <td>2017-09-04</td>\n",
       "    </tr>\n",
       "  </tbody>\n",
       "</table>\n",
       "</div>"
      ],
      "text/plain": [
       "          DATE  PRCP           d\n",
       "247 2017-09-05   0.0  2017-09-05\n",
       "246 2017-09-04   0.0  2017-09-04"
      ]
     },
     "execution_count": 13,
     "metadata": {},
     "output_type": "execute_result"
    }
   ],
   "source": [
    "prcp = pd.read_csv(\"../data/external/nyc_centralpark_2017precip.csv\",\n",
    "                   usecols=[\"DATE\", \"PRCP\"], parse_dates=[\"DATE\"])\n",
    "prcp[\"d\"] = prcp.DATE.dt.strftime(\"%Y-%m-%d\")\n",
    "low_rain = prcp[prcp.PRCP < 0.05]\n",
    "low_rain.sort_values(\"DATE\", ascending=False).head(2)"
   ]
  },
  {
   "cell_type": "markdown",
   "metadata": {},
   "source": [
    "### Cameras"
   ]
  },
  {
   "cell_type": "code",
   "execution_count": 14,
   "metadata": {
    "collapsed": false
   },
   "outputs": [
    {
     "data": {
      "text/html": [
       "<div>\n",
       "<style>\n",
       "    .dataframe thead tr:only-child th {\n",
       "        text-align: right;\n",
       "    }\n",
       "\n",
       "    .dataframe thead th {\n",
       "        text-align: left;\n",
       "    }\n",
       "\n",
       "    .dataframe tbody tr th {\n",
       "        vertical-align: top;\n",
       "    }\n",
       "</style>\n",
       "<table border=\"1\" class=\"dataframe\">\n",
       "  <thead>\n",
       "    <tr style=\"text-align: right;\">\n",
       "      <th></th>\n",
       "      <th>cam_id</th>\n",
       "      <th>cctv_id</th>\n",
       "      <th>description</th>\n",
       "      <th>lat</th>\n",
       "      <th>long</th>\n",
       "      <th>people</th>\n",
       "      <th>ribbon</th>\n",
       "      <th>boro</th>\n",
       "      <th>zipcode</th>\n",
       "      <th>lat_nys</th>\n",
       "      <th>lon_nys</th>\n",
       "      <th>BoroCT2010</th>\n",
       "    </tr>\n",
       "  </thead>\n",
       "  <tbody>\n",
       "    <tr>\n",
       "      <th>4</th>\n",
       "      <td>172</td>\n",
       "      <td>11</td>\n",
       "      <td>Baxter St @ Canal Street</td>\n",
       "      <td>40.716623</td>\n",
       "      <td>-73.999186</td>\n",
       "      <td>1.0</td>\n",
       "      <td>1.0</td>\n",
       "      <td>Manhattan</td>\n",
       "      <td>10013</td>\n",
       "      <td>984475.771706</td>\n",
       "      <td>200361.648135</td>\n",
       "      <td>1002900</td>\n",
       "    </tr>\n",
       "    <tr>\n",
       "      <th>9</th>\n",
       "      <td>421</td>\n",
       "      <td>438</td>\n",
       "      <td>Broadway @ 51 St</td>\n",
       "      <td>40.761268</td>\n",
       "      <td>-73.983564</td>\n",
       "      <td>1.0</td>\n",
       "      <td>1.0</td>\n",
       "      <td>Manhattan</td>\n",
       "      <td>10019</td>\n",
       "      <td>988803.094969</td>\n",
       "      <td>216627.749248</td>\n",
       "      <td>1013100</td>\n",
       "    </tr>\n",
       "  </tbody>\n",
       "</table>\n",
       "</div>"
      ],
      "text/plain": [
       "   cam_id cctv_id               description        lat       long  people  \\\n",
       "4     172      11  Baxter St @ Canal Street  40.716623 -73.999186     1.0   \n",
       "9     421     438          Broadway @ 51 St  40.761268 -73.983564     1.0   \n",
       "\n",
       "   ribbon       boro zipcode        lat_nys        lon_nys BoroCT2010  \n",
       "4     1.0  Manhattan   10013  984475.771706  200361.648135    1002900  \n",
       "9     1.0  Manhattan   10019  988803.094969  216627.749248    1013100  "
      ]
     },
     "execution_count": 14,
     "metadata": {},
     "output_type": "execute_result"
    }
   ],
   "source": [
    "cams = pd.read_csv(\"../data/external/cameras.csv\")\n",
    "proj = pyproj.Proj(init=\"epsg:2263\", preserve_units=True)\n",
    "cams[\"lat_nys\"], cams[\"lon_nys\"] = zip(*[proj(i, j) for i, j in zip(cams.long, cams.lat)])\n",
    "\n",
    "mn_cams = cams[(cams.boro == \"Manhattan\") & (cams.people == 1.)].copy()\n",
    "\n",
    "cam_ct = []\n",
    "\n",
    "for ii in range(len(mn_cams)):\n",
    "    pnt = Point(mn_cams.iloc[ii].lat_nys, mn_cams.iloc[ii].lon_nys)\n",
    "    cont = ct[ct.contains(pnt)]\n",
    "    \n",
    "    if len(cont) == 1:\n",
    "        cam_ct.append(cont.iloc[0].BoroCT2010)\n",
    "    elif len(cont) == 0:\n",
    "        cam_ct.append(0)\n",
    "        print(\"Census Tract not found for {0}!!!\".format(mn_cams.iloc[ii].cam_id))\n",
    "        clear_output(wait=True)\n",
    "    else:\n",
    "        cam_ct.append(0)\n",
    "        print(\"{0} Census Tracts found for {1}!!!\" \\\n",
    "                  .format(cont.sum(), mn_cams.iloc[ii].cam_id))\n",
    "        clear_output(wait=True)\n",
    "\n",
    "mn_cams[\"BoroCT2010\"] = cam_ct\n",
    "mn_cams.head(2)"
   ]
  },
  {
   "cell_type": "markdown",
   "metadata": {},
   "source": [
    "### Hadive"
   ]
  },
  {
   "cell_type": "code",
   "execution_count": 94,
   "metadata": {
    "collapsed": false
   },
   "outputs": [
    {
     "data": {
      "text/html": [
       "<div>\n",
       "<style>\n",
       "    .dataframe thead tr:only-child th {\n",
       "        text-align: right;\n",
       "    }\n",
       "\n",
       "    .dataframe thead th {\n",
       "        text-align: left;\n",
       "    }\n",
       "\n",
       "    .dataframe tbody tr th {\n",
       "        vertical-align: top;\n",
       "    }\n",
       "</style>\n",
       "<table border=\"1\" class=\"dataframe\">\n",
       "  <thead>\n",
       "    <tr style=\"text-align: right;\">\n",
       "      <th></th>\n",
       "      <th>cam_id</th>\n",
       "      <th>count</th>\n",
       "      <th>d</th>\n",
       "      <th>t</th>\n",
       "    </tr>\n",
       "    <tr>\n",
       "      <th>date</th>\n",
       "      <th></th>\n",
       "      <th></th>\n",
       "      <th></th>\n",
       "      <th></th>\n",
       "    </tr>\n",
       "  </thead>\n",
       "  <tbody>\n",
       "    <tr>\n",
       "      <th>2017-06-27 23:57:33</th>\n",
       "      <td>988</td>\n",
       "      <td>0</td>\n",
       "      <td>2017-06-28</td>\n",
       "      <td>00:00</td>\n",
       "    </tr>\n",
       "    <tr>\n",
       "      <th>2017-06-27 23:57:33</th>\n",
       "      <td>166</td>\n",
       "      <td>0</td>\n",
       "      <td>2017-06-28</td>\n",
       "      <td>00:00</td>\n",
       "    </tr>\n",
       "  </tbody>\n",
       "</table>\n",
       "</div>"
      ],
      "text/plain": [
       "                     cam_id  count           d      t\n",
       "date                                                 \n",
       "2017-06-27 23:57:33     988      0  2017-06-28  00:00\n",
       "2017-06-27 23:57:33     166      0  2017-06-28  00:00"
      ]
     },
     "execution_count": 94,
     "metadata": {},
     "output_type": "execute_result"
    }
   ],
   "source": [
    "hdv = pd.read_feather(\"../data/results/hadive-data.feather\").set_index(\"date\")\n",
    "mn_wd_hdv = hdv[(hdv.cam_id.isin(mn_cams.cam_id.unique())) & \n",
    "                (hdv.index.weekday < 5)].copy()\n",
    "dt_values = [(t[:10], t[11:16]) for t in (mn_wd_hdv.index.round(\"5Min\").values).astype(str)]\n",
    "mn_wd_hdv[\"d\"] = [x[0] for x in dt_values]\n",
    "mn_wd_hdv[\"t\"] = [x[1] for x in dt_values]\n",
    "mn_wd_hdv = mn_wd_hdv[mn_wd_hdv.d.isin(low_rain.d.unique())]\n",
    "mn_wd_hdv.head(2)"
   ]
  },
  {
   "cell_type": "markdown",
   "metadata": {},
   "source": [
    "# Analysis\n",
    "### Calculate residential and commercial area for each census tract."
   ]
  },
  {
   "cell_type": "code",
   "execution_count": 146,
   "metadata": {
    "collapsed": false
   },
   "outputs": [],
   "source": [
    "mn_sum = mn.groupby(\"BoroCT2010\").sum().reset_index()\n",
    "ct = ct.merge(mn_cams.groupby(\"BoroCT2010\").size().reset_index().rename(columns={0: \"NumCams\"}), how=\"left\", on=\"BoroCT2010\").fillna(0.) \\\n",
    "       .merge(mn_sum[[\"BoroCT2010\", \"ResArea\", \"ComArea\", \"BldgArea\"]], how=\"left\", on=\"BoroCT2010\")\n",
    "res_area = ct.ResArea.astype(float)\n",
    "com_area = ct.ComArea.astype(float)\n",
    "tot_area = ct.BldgArea.astype(float)\n",
    "    \n",
    "ct[\"AreaRat\"] = res_area / ((res_area + com_area) + ((res_area + com_area) == 0))\n",
    "ct[\"ResFrac\"] = res_area / tot_area\n",
    "ct[\"ComFrac\"] = com_area / tot_area"
   ]
  },
  {
   "cell_type": "markdown",
   "metadata": {},
   "source": [
    "### Calculate the average time series for each camera"
   ]
  },
  {
   "cell_type": "code",
   "execution_count": 147,
   "metadata": {
    "collapsed": false
   },
   "outputs": [],
   "source": [
    "wd = mn_wd_hdv.groupby([\"cam_id\", \"t\"]).mean().unstack(level=1)\n",
    "wd.columns = [pd.to_datetime(\"9-9-99 \" + t) for t in wd.columns.droplevel()]\n",
    "wd_norm = ((wd.T - wd.T.mean()) / wd.T.std()).T.sort_index()\n",
    "wd_vals = wd_norm.values"
   ]
  },
  {
   "cell_type": "code",
   "execution_count": 148,
   "metadata": {
    "collapsed": false
   },
   "outputs": [
    {
     "data": {
      "text/html": [
       "<div>\n",
       "<style>\n",
       "    .dataframe thead tr:only-child th {\n",
       "        text-align: right;\n",
       "    }\n",
       "\n",
       "    .dataframe thead th {\n",
       "        text-align: left;\n",
       "    }\n",
       "\n",
       "    .dataframe tbody tr th {\n",
       "        vertical-align: top;\n",
       "    }\n",
       "</style>\n",
       "<table border=\"1\" class=\"dataframe\">\n",
       "  <thead>\n",
       "    <tr style=\"text-align: right;\">\n",
       "      <th></th>\n",
       "      <th>BoroCT2010</th>\n",
       "      <th>ResArea</th>\n",
       "      <th>ComArea</th>\n",
       "      <th>BldgArea</th>\n",
       "      <th>AreaRat</th>\n",
       "      <th>ResFrac</th>\n",
       "      <th>ComFrac</th>\n",
       "    </tr>\n",
       "    <tr>\n",
       "      <th>cam_id</th>\n",
       "      <th></th>\n",
       "      <th></th>\n",
       "      <th></th>\n",
       "      <th></th>\n",
       "      <th></th>\n",
       "      <th></th>\n",
       "      <th></th>\n",
       "    </tr>\n",
       "  </thead>\n",
       "  <tbody>\n",
       "    <tr>\n",
       "      <th>163</th>\n",
       "      <td>1001300</td>\n",
       "      <td>3401872</td>\n",
       "      <td>20257104</td>\n",
       "      <td>24919762</td>\n",
       "      <td>0.143788</td>\n",
       "      <td>0.136513</td>\n",
       "      <td>0.812893</td>\n",
       "    </tr>\n",
       "    <tr>\n",
       "      <th>165</th>\n",
       "      <td>1007800</td>\n",
       "      <td>5119180</td>\n",
       "      <td>1850176</td>\n",
       "      <td>6969356</td>\n",
       "      <td>0.734527</td>\n",
       "      <td>0.734527</td>\n",
       "      <td>0.265473</td>\n",
       "    </tr>\n",
       "  </tbody>\n",
       "</table>\n",
       "</div>"
      ],
      "text/plain": [
       "       BoroCT2010  ResArea   ComArea  BldgArea   AreaRat   ResFrac   ComFrac\n",
       "cam_id                                                                      \n",
       "163       1001300  3401872  20257104  24919762  0.143788  0.136513  0.812893\n",
       "165       1007800  5119180   1850176   6969356  0.734527  0.734527  0.265473"
      ]
     },
     "execution_count": 148,
     "metadata": {},
     "output_type": "execute_result"
    }
   ],
   "source": [
    "mn_cams_ct = mn_cams[[\"cam_id\", \"BoroCT2010\"]].merge(\n",
    "                ct[[\"BoroCT2010\", \"ResArea\", \"ComArea\", \"BldgArea\",\n",
    "                    \"AreaRat\", \"ResFrac\", \"ComFrac\"]], \n",
    "                on=\"BoroCT2010\", how=\"left\").set_index(\"cam_id\").sort_index()\n",
    "\n",
    "mn_cams_ct.head(2)"
   ]
  },
  {
   "cell_type": "markdown",
   "metadata": {},
   "source": [
    "### Fit Model"
   ]
  },
  {
   "cell_type": "code",
   "execution_count": 149,
   "metadata": {
    "collapsed": false
   },
   "outputs": [],
   "source": [
    "rind = mn_cams_ct[\"AreaRat\"].argsort()\n",
    "wd_valsr = wd_vals[rind]"
   ]
  },
  {
   "cell_type": "code",
   "execution_count": 150,
   "metadata": {
    "collapsed": false
   },
   "outputs": [],
   "source": [
    "def gauss(xx, xx0, sig):\n",
    "    return np.exp(-(xx - xx0)**2 / (2.0 * sig**2))\n",
    "\n",
    "xx   = np.arange(float(wd_valsr.shape[1]))\n",
    "wgt  = np.array([1.1, 1.8, 1.9, -1.0])\n",
    "tmpl = np.array([gauss(xx, 102., 10.), gauss(xx, 155., 40.),\n",
    "                 gauss(xx, 222., 19.), np.ones(xx.size)])\n",
    "\n",
    "wgts = np.zeros((wd_valsr.shape[0], 4))\n",
    "\n",
    "for ii in range(wd_valsr.shape[0]):\n",
    "    wgts[ii] = np.dot(np.linalg.inv(np.dot(tmpl, tmpl.T)),\n",
    "                      np.dot(tmpl, wd_valsr[ii]))\n",
    "\n",
    "mod = np.dot(wgts, tmpl)"
   ]
  },
  {
   "cell_type": "code",
   "execution_count": 151,
   "metadata": {
    "collapsed": false
   },
   "outputs": [
    {
     "data": {
      "text/plain": [
       "[<matplotlib.lines.Line2D at 0x1ecc66c90>]"
      ]
     },
     "execution_count": 151,
     "metadata": {},
     "output_type": "execute_result"
    },
    {
     "data": {
      "image/png": "[encoded data removed]",
      "text/plain": [
       "<matplotlib.figure.Figure at 0x1ed05d390>"
      ]
     },
     "metadata": {},
     "output_type": "display_data"
    }
   ],
   "source": [
    "ii = 120\n",
    "fig, ax = plt.subplots(nrows=1, ncols=1, figsize=(10, 5))\n",
    "ax.plot(xx, wd_valsr[ii])\n",
    "ax.plot(xx, mod[ii])"
   ]
  },
  {
   "cell_type": "code",
   "execution_count": 152,
   "metadata": {
    "collapsed": false
   },
   "outputs": [
    {
     "data": {
      "text/plain": [
       "[]"
      ]
     },
     "execution_count": 152,
     "metadata": {},
     "output_type": "execute_result"
    },
    {
     "data": {
      "image/png": "[encoded data removed]",
      "text/plain": [
       "<matplotlib.figure.Figure at 0x1ad4cd450>"
      ]
     },
     "metadata": {},
     "output_type": "display_data"
    }
   ],
   "source": [
    "fig, ax = plt.subplots(nrows=1, ncols=1, figsize=(10, 5))\n",
    "ax.imshow(wgts[wgts[:, 1].argsort()], aspect=\"auto\", cmap=\"viridis\")\n",
    "ax.grid(False)\n",
    "ax.set_title(\"Weekday Model Weights (Area Ratio; Excluding Rain Days)\", fontsize=16)\n",
    "ax.set_xticks([])"
   ]
  },
  {
   "cell_type": "code",
   "execution_count": 163,
   "metadata": {
    "collapsed": false
   },
   "outputs": [
    {
     "data": {
      "text/plain": [
       "<matplotlib.text.Text at 0x1993b7350>"
      ]
     },
     "execution_count": 163,
     "metadata": {},
     "output_type": "execute_result"
    },
    {
     "data": {
      "image/png": "[encoded data removed]",
      "text/plain": [
       "<matplotlib.figure.Figure at 0x196e6a250>"
      ]
     },
     "metadata": {},
     "output_type": "display_data"
    }
   ],
   "source": [
    "fig, ax = plt.subplots(nrows=1, ncols=1, figsize=(5, 5))\n",
    "m, b = np.polyfit(mn_cams_ct.sort_values(\"AreaRat\").AreaRat.values, wgts[:, 1], 1)\n",
    "ax.scatter(mn_cams_ct.sort_values(\"AreaRat\").AreaRat, wgts[:, 1], c=\"k\", alpha=0.5)\n",
    "ax.plot(mn_cams_ct.sort_values(\"AreaRat\").AreaRat, \n",
    "        m*mn_cams_ct.sort_values(\"AreaRat\").AreaRat+b, c=\"r\")\n",
    "ax.set_ylabel(\"W1\")\n",
    "ax.set_xlabel(\"Res/Com Ratio\")"
   ]
  },
  {
   "cell_type": "code",
   "execution_count": null,
   "metadata": {
    "collapsed": true
   },
   "outputs": [],
   "source": []
  }
 ],
 "metadata": {
  "kernelspec": {
   "display_name": "Python 2",
   "language": "python",
   "name": "python2"
  },
  "language_info": {
   "codemirror_mode": {
    "name": "ipython",
    "version": 2
   },
   "file_extension": ".py",
   "mimetype": "text/x-python",
   "name": "python",
   "nbconvert_exporter": "python",
   "pygments_lexer": "ipython2",
   "version": "2.7.12"
  }
 },
 "nbformat": 4,
 "nbformat_minor": 2
}
