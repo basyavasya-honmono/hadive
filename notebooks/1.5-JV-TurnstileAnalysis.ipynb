{
 "cells": [
  {
   "cell_type": "markdown",
   "metadata": {},
   "source": [
    "# Imports"
   ]
  },
  {
   "cell_type": "code",
   "execution_count": 1,
   "metadata": {
    "collapsed": false
   },
   "outputs": [
    {
     "name": "stderr",
     "output_type": "stream",
     "text": [
      "/Users/JordanVani/anaconda/lib/python2.7/site-packages/IPython/html.py:14: ShimWarning: The `IPython.html` package has been deprecated. You should import from `notebook` instead. `IPython.html.widgets` has moved to `ipywidgets`.\n",
      "  \"`IPython.html.widgets` has moved to `ipywidgets`.\", ShimWarning)\n"
     ]
    }
   ],
   "source": [
    "import datetime\n",
    "import pandas as pd\n",
    "import seaborn as sns\n",
    "import matplotlib.pyplot as plt\n",
    "import matplotlib.dates as mdates\n",
    "from IPython.display import clear_output\n",
    "%matplotlib inline"
   ]
  },
  {
   "cell_type": "markdown",
   "metadata": {},
   "source": [
    "# Functions"
   ]
  },
  {
   "cell_type": "code",
   "execution_count": 292,
   "metadata": {
    "collapsed": true
   },
   "outputs": [],
   "source": [
    "def groupby_min(df, dur):\n",
    "    temp = df.copy()\n",
    "    temp.index = map(lambda x: pd.datetime.combine(datetime.datetime.today()\n",
    "                                                   , x), temp.index.time)\n",
    "    return temp.resample(dur).mean()\n",
    "\n",
    "def plot_camera_avg(df, cam=None, dur=\"1Min\"):\n",
    "    if cam == None:\n",
    "        weekday = groupby_min(df[(df.index.weekday < 5)], dur)\n",
    "        weekend = groupby_min(df[(df.index.weekday >= 5)], dur)\n",
    "\n",
    "    else:\n",
    "        weekday = groupby_min(df[(df.index.weekday < 5) & \n",
    "                                 (df.cam_id == cam)], dur)\n",
    "        weekend = groupby_min(df[(df.index.weekday >= 5) & \n",
    "                                 (df.cam_id == cam)], dur)\n",
    "\n",
    "    fig, ax1 = plt.subplots(nrows=1, ncols=1, figsize=(16, 4))\n",
    "    \n",
    "    weekday[\"count\"].plot(ax=ax1, c=\"k\", alpha=0.5, label=\"Weekday\")\n",
    "    weekend[\"count\"].plot(ax=ax1, c=\"b\", alpha=0.5, label=\"Weekend\")\n",
    "\n",
    "    ax1.xaxis.set_major_locator(mdates.HourLocator(interval=2))\n",
    "    ax1.xaxis.set_major_formatter(mdates.DateFormatter(\"%H:%M\"))\n",
    "    ax1.grid(True, which=\"both\")\n",
    "    ax1.tick_params(axis=\"both\", which=\"both\", labelsize=12)\n",
    "    ax1.legend(ncol=3, fontsize=12)\n",
    "    \n",
    "    return fig, ax1"
   ]
  },
  {
   "cell_type": "markdown",
   "metadata": {},
   "source": [
    "# Load Data"
   ]
  },
  {
   "cell_type": "code",
   "execution_count": 2,
   "metadata": {
    "collapsed": false
   },
   "outputs": [
    {
     "data": {
      "text/html": [
       "<div>\n",
       "<table border=\"1\" class=\"dataframe\">\n",
       "  <thead>\n",
       "    <tr style=\"text-align: right;\">\n",
       "      <th></th>\n",
       "      <th>cam_id</th>\n",
       "      <th>cam_dir</th>\n",
       "      <th>count</th>\n",
       "      <th>imtime</th>\n",
       "    </tr>\n",
       "    <tr>\n",
       "      <th>date</th>\n",
       "      <th></th>\n",
       "      <th></th>\n",
       "      <th></th>\n",
       "      <th></th>\n",
       "    </tr>\n",
       "  </thead>\n",
       "  <tbody>\n",
       "    <tr>\n",
       "      <th>2017-06-27 20:09:22</th>\n",
       "      <td>368</td>\n",
       "      <td>S</td>\n",
       "      <td>1</td>\n",
       "      <td>NaN</td>\n",
       "    </tr>\n",
       "    <tr>\n",
       "      <th>2017-06-27 20:09:23</th>\n",
       "      <td>360</td>\n",
       "      <td>NaN</td>\n",
       "      <td>1</td>\n",
       "      <td>NaN</td>\n",
       "    </tr>\n",
       "  </tbody>\n",
       "</table>\n",
       "</div>"
      ],
      "text/plain": [
       "                     cam_id cam_dir  count imtime\n",
       "date                                             \n",
       "2017-06-27 20:09:22     368       S      1    NaN\n",
       "2017-06-27 20:09:23     360     NaN      1    NaN"
      ]
     },
     "execution_count": 2,
     "metadata": {},
     "output_type": "execute_result"
    }
   ],
   "source": [
    "counts = pd.read_csv(\"../data/external/hadive-data.csv\",\n",
    "                 usecols=[\"cam_id\", \"date\", \"cam_dir\", \"count\", \"imtime\"],\n",
    "                 dtype={\"cam_id\": int, \"date\": str, \"cam_dir\": str,\n",
    "                        \"count\": int, \"imtime\": str}, parse_dates=[\"date\"],\n",
    "                 infer_datetime_format=True, index_col=\"date\")\n",
    "counts.head(2)"
   ]
  },
  {
   "cell_type": "code",
   "execution_count": 3,
   "metadata": {
    "collapsed": false
   },
   "outputs": [
    {
     "data": {
      "text/html": [
       "<div>\n",
       "<table border=\"1\" class=\"dataframe\">\n",
       "  <thead>\n",
       "    <tr style=\"text-align: right;\">\n",
       "      <th></th>\n",
       "      <th>cam_id</th>\n",
       "      <th>cctv_id</th>\n",
       "      <th>description</th>\n",
       "      <th>lat</th>\n",
       "      <th>long</th>\n",
       "      <th>people</th>\n",
       "      <th>ribbon</th>\n",
       "      <th>boro</th>\n",
       "      <th>zipcode</th>\n",
       "    </tr>\n",
       "  </thead>\n",
       "  <tbody>\n",
       "    <tr>\n",
       "      <th>0</th>\n",
       "      <td>112</td>\n",
       "      <td>83</td>\n",
       "      <td>SIE @ Richmond Ave</td>\n",
       "      <td>40.614885</td>\n",
       "      <td>-74.157435</td>\n",
       "      <td>0.0</td>\n",
       "      <td>1.0</td>\n",
       "      <td>Staten Island</td>\n",
       "      <td>10314</td>\n",
       "    </tr>\n",
       "    <tr>\n",
       "      <th>1</th>\n",
       "      <td>121</td>\n",
       "      <td>129</td>\n",
       "      <td>LIE @ Kissena Blvd</td>\n",
       "      <td>40.738943</td>\n",
       "      <td>-73.815047</td>\n",
       "      <td>1.0</td>\n",
       "      <td>0.0</td>\n",
       "      <td>Queens</td>\n",
       "      <td>11367</td>\n",
       "    </tr>\n",
       "  </tbody>\n",
       "</table>\n",
       "</div>"
      ],
      "text/plain": [
       "   cam_id cctv_id         description        lat       long  people  ribbon  \\\n",
       "0     112      83  SIE @ Richmond Ave  40.614885 -74.157435     0.0     1.0   \n",
       "1     121     129  LIE @ Kissena Blvd  40.738943 -73.815047     1.0     0.0   \n",
       "\n",
       "            boro zipcode  \n",
       "0  Staten Island   10314  \n",
       "1         Queens   11367  "
      ]
     },
     "execution_count": 3,
     "metadata": {},
     "output_type": "execute_result"
    }
   ],
   "source": [
    "cams = pd.read_csv(\"../data/external/cameras.csv\")\n",
    "cams.head(2)"
   ]
  },
  {
   "cell_type": "code",
   "execution_count": 182,
   "metadata": {
    "collapsed": false
   },
   "outputs": [
    {
     "data": {
      "text/html": [
       "<div>\n",
       "<table border=\"1\" class=\"dataframe\">\n",
       "  <thead>\n",
       "    <tr style=\"text-align: right;\">\n",
       "      <th></th>\n",
       "      <th>cam_id</th>\n",
       "      <th>count</th>\n",
       "      <th>boro</th>\n",
       "      <th>description</th>\n",
       "    </tr>\n",
       "    <tr>\n",
       "      <th>date</th>\n",
       "      <th></th>\n",
       "      <th></th>\n",
       "      <th></th>\n",
       "      <th></th>\n",
       "    </tr>\n",
       "  </thead>\n",
       "  <tbody>\n",
       "    <tr>\n",
       "      <th>2017-06-27 20:09:22</th>\n",
       "      <td>368</td>\n",
       "      <td>1</td>\n",
       "      <td>Manhattan</td>\n",
       "      <td>1 Ave @ 110 St</td>\n",
       "    </tr>\n",
       "    <tr>\n",
       "      <th>2017-06-27 20:10:39</th>\n",
       "      <td>368</td>\n",
       "      <td>1</td>\n",
       "      <td>Manhattan</td>\n",
       "      <td>1 Ave @ 110 St</td>\n",
       "    </tr>\n",
       "  </tbody>\n",
       "</table>\n",
       "</div>"
      ],
      "text/plain": [
       "                     cam_id  count       boro     description\n",
       "date                                                         \n",
       "2017-06-27 20:09:22     368      1  Manhattan  1 Ave @ 110 St\n",
       "2017-06-27 20:10:39     368      1  Manhattan  1 Ave @ 110 St"
      ]
     },
     "execution_count": 182,
     "metadata": {},
     "output_type": "execute_result"
    }
   ],
   "source": [
    "df = counts[[\"cam_id\", \"count\"]].reset_index() \\\n",
    "        .merge(cams[cams[\"people\"] == 1.][[\"cam_id\", \"boro\", \"description\"]]) \\\n",
    "        .set_index(\"date\")\n",
    "df.head(2)"
   ]
  },
  {
   "cell_type": "code",
   "execution_count": 93,
   "metadata": {
    "collapsed": false
   },
   "outputs": [
    {
     "data": {
      "text/html": [
       "<div>\n",
       "<table border=\"1\" class=\"dataframe\">\n",
       "  <thead>\n",
       "    <tr style=\"text-align: right;\">\n",
       "      <th></th>\n",
       "      <th>C/A</th>\n",
       "      <th>UNIT</th>\n",
       "      <th>SCP</th>\n",
       "      <th>STATION</th>\n",
       "      <th>LINENAME</th>\n",
       "      <th>DIVISION</th>\n",
       "      <th>DATE</th>\n",
       "      <th>TIME</th>\n",
       "      <th>DESC</th>\n",
       "      <th>ENTRIES</th>\n",
       "      <th>EXITS</th>\n",
       "    </tr>\n",
       "  </thead>\n",
       "  <tbody>\n",
       "    <tr>\n",
       "      <th>0</th>\n",
       "      <td>A002</td>\n",
       "      <td>R051</td>\n",
       "      <td>02-00-00</td>\n",
       "      <td>59 ST</td>\n",
       "      <td>NQR456W</td>\n",
       "      <td>BMT</td>\n",
       "      <td>2017-07-22</td>\n",
       "      <td>00:00:00</td>\n",
       "      <td>REGULAR</td>\n",
       "      <td>6262933</td>\n",
       "      <td>2121633</td>\n",
       "    </tr>\n",
       "    <tr>\n",
       "      <th>1</th>\n",
       "      <td>A002</td>\n",
       "      <td>R051</td>\n",
       "      <td>02-00-00</td>\n",
       "      <td>59 ST</td>\n",
       "      <td>NQR456W</td>\n",
       "      <td>BMT</td>\n",
       "      <td>2017-07-22</td>\n",
       "      <td>04:00:00</td>\n",
       "      <td>REGULAR</td>\n",
       "      <td>6262960</td>\n",
       "      <td>2121637</td>\n",
       "    </tr>\n",
       "  </tbody>\n",
       "</table>\n",
       "</div>"
      ],
      "text/plain": [
       "    C/A  UNIT       SCP STATION LINENAME DIVISION       DATE      TIME  \\\n",
       "0  A002  R051  02-00-00   59 ST  NQR456W      BMT 2017-07-22  00:00:00   \n",
       "1  A002  R051  02-00-00   59 ST  NQR456W      BMT 2017-07-22  04:00:00   \n",
       "\n",
       "      DESC  ENTRIES    EXITS  \n",
       "0  REGULAR  6262933  2121633  \n",
       "1  REGULAR  6262960  2121637  "
      ]
     },
     "execution_count": 93,
     "metadata": {},
     "output_type": "execute_result"
    }
   ],
   "source": [
    "mta = pd.read_csv(\"../data/external/turnstile_170729.txt\", parse_dates=[\"DATE\"]) \\\n",
    "        .rename(columns=lambda x: x.strip())\n",
    "mta.head(2)"
   ]
  },
  {
   "cell_type": "markdown",
   "metadata": {},
   "source": [
    "# Turstile Analysis"
   ]
  },
  {
   "cell_type": "code",
   "execution_count": 268,
   "metadata": {
    "collapsed": false
   },
   "outputs": [
    {
     "data": {
      "text/html": [
       "<div>\n",
       "<table border=\"1\" class=\"dataframe\">\n",
       "  <thead>\n",
       "    <tr style=\"text-align: right;\">\n",
       "      <th></th>\n",
       "      <th>cam_id</th>\n",
       "      <th>cctv_id</th>\n",
       "      <th>description</th>\n",
       "      <th>lat</th>\n",
       "      <th>long</th>\n",
       "      <th>people</th>\n",
       "      <th>ribbon</th>\n",
       "      <th>boro</th>\n",
       "      <th>zipcode</th>\n",
       "    </tr>\n",
       "  </thead>\n",
       "  <tbody>\n",
       "    <tr>\n",
       "      <th>130</th>\n",
       "      <td>856</td>\n",
       "      <td>750</td>\n",
       "      <td>Stillwell Ave @ Surf Ave</td>\n",
       "      <td>40.575565</td>\n",
       "      <td>-73.981202</td>\n",
       "      <td>1.0</td>\n",
       "      <td>1.0</td>\n",
       "      <td>Brooklyn</td>\n",
       "      <td>11224</td>\n",
       "    </tr>\n",
       "  </tbody>\n",
       "</table>\n",
       "</div>"
      ],
      "text/plain": [
       "     cam_id cctv_id               description        lat       long  people  \\\n",
       "130     856     750  Stillwell Ave @ Surf Ave  40.575565 -73.981202     1.0   \n",
       "\n",
       "     ribbon      boro zipcode  \n",
       "130     1.0  Brooklyn   11224  "
      ]
     },
     "execution_count": 268,
     "metadata": {},
     "output_type": "execute_result"
    }
   ],
   "source": [
    "cams[cams[\"description\"] == \"Stillwell Ave @ Surf Ave\"]"
   ]
  },
  {
   "cell_type": "code",
   "execution_count": 294,
   "metadata": {
    "collapsed": false,
    "scrolled": true
   },
   "outputs": [
    {
     "data": {
      "image/png": "[encoded data removed]",
      "text/plain": [
       "<matplotlib.figure.Figure at 0x17c8bfa90>"
      ]
     },
     "metadata": {},
     "output_type": "display_data"
    }
   ],
   "source": [
    "fig, ax = plot_camera_avg(df, 503, dur=\"5Min\")"
   ]
  },
  {
   "cell_type": "code",
   "execution_count": 290,
   "metadata": {
    "collapsed": false
   },
   "outputs": [
    {
     "data": {
      "text/html": [
       "<div>\n",
       "<table border=\"1\" class=\"dataframe\">\n",
       "  <thead>\n",
       "    <tr style=\"text-align: right;\">\n",
       "      <th></th>\n",
       "      <th>ENTRIES</th>\n",
       "      <th>EXITS</th>\n",
       "      <th>AVG_EXITS</th>\n",
       "      <th>AVG_ENTRIES</th>\n",
       "      <th>DIFF</th>\n",
       "      <th>SUM</th>\n",
       "    </tr>\n",
       "    <tr>\n",
       "      <th>TIME</th>\n",
       "      <th></th>\n",
       "      <th></th>\n",
       "      <th></th>\n",
       "      <th></th>\n",
       "      <th></th>\n",
       "      <th></th>\n",
       "    </tr>\n",
       "  </thead>\n",
       "  <tbody>\n",
       "    <tr>\n",
       "      <th>01:00:00</th>\n",
       "      <td>810</td>\n",
       "      <td>5617</td>\n",
       "      <td>802.428571</td>\n",
       "      <td>115.714286</td>\n",
       "      <td>686.714286</td>\n",
       "      <td>918.142857</td>\n",
       "    </tr>\n",
       "    <tr>\n",
       "      <th>05:00:00</th>\n",
       "      <td>1492</td>\n",
       "      <td>1587</td>\n",
       "      <td>226.714286</td>\n",
       "      <td>213.142857</td>\n",
       "      <td>13.571429</td>\n",
       "      <td>439.857143</td>\n",
       "    </tr>\n",
       "    <tr>\n",
       "      <th>09:00:00</th>\n",
       "      <td>14127</td>\n",
       "      <td>6464</td>\n",
       "      <td>923.428571</td>\n",
       "      <td>2018.142857</td>\n",
       "      <td>1094.714286</td>\n",
       "      <td>2941.571429</td>\n",
       "    </tr>\n",
       "    <tr>\n",
       "      <th>13:00:00</th>\n",
       "      <td>11317</td>\n",
       "      <td>13665</td>\n",
       "      <td>1952.142857</td>\n",
       "      <td>1616.714286</td>\n",
       "      <td>335.428571</td>\n",
       "      <td>3568.857143</td>\n",
       "    </tr>\n",
       "    <tr>\n",
       "      <th>17:00:00</th>\n",
       "      <td>21167</td>\n",
       "      <td>18072</td>\n",
       "      <td>2581.714286</td>\n",
       "      <td>3023.857143</td>\n",
       "      <td>442.142857</td>\n",
       "      <td>5605.571429</td>\n",
       "    </tr>\n",
       "    <tr>\n",
       "      <th>21:00:00</th>\n",
       "      <td>19757</td>\n",
       "      <td>18975</td>\n",
       "      <td>2710.714286</td>\n",
       "      <td>2822.428571</td>\n",
       "      <td>111.714286</td>\n",
       "      <td>5533.142857</td>\n",
       "    </tr>\n",
       "  </tbody>\n",
       "</table>\n",
       "</div>"
      ],
      "text/plain": [
       "          ENTRIES  EXITS    AVG_EXITS  AVG_ENTRIES         DIFF          SUM\n",
       "TIME                                                                        \n",
       "01:00:00      810   5617   802.428571   115.714286   686.714286   918.142857\n",
       "05:00:00     1492   1587   226.714286   213.142857    13.571429   439.857143\n",
       "09:00:00    14127   6464   923.428571  2018.142857  1094.714286  2941.571429\n",
       "13:00:00    11317  13665  1952.142857  1616.714286   335.428571  3568.857143\n",
       "17:00:00    21167  18072  2581.714286  3023.857143   442.142857  5605.571429\n",
       "21:00:00    19757  18975  2710.714286  2822.428571   111.714286  5533.142857"
      ]
     },
     "execution_count": 290,
     "metadata": {},
     "output_type": "execute_result"
    }
   ],
   "source": [
    "turnstiles = mta[(mta[\"STATION\"] == 'CONEY IS-STILLW') & (mta[\"DATE\"].dt.weekday < 5)].groupby([\"SCP\", \"DATE\", \"TIME\"]).sum()\n",
    "\n",
    "for idx, row in turnstiles.iterrows():\n",
    "    scp = 0\n",
    "    row_0 = row.copy()\n",
    "    if ((idx[0] == scp) & (idx[2] == \"01:00:00\")):\n",
    "        turnstiles.loc[idx][\"ENTRIES\"] = 0\n",
    "        turnstiles.loc[idx][\"EXITS\"] = 0\n",
    "        scp = idx[0]\n",
    "        print scp\n",
    "    else:\n",
    "        turnstiles.loc[idx][\"ENTRIES\"] = row_0.ENTRIES - entries_0\n",
    "        turnstiles.loc[idx][\"EXITS\"] = row_0.EXITS - exits_0\n",
    "    entries_0 = row_0.ENTRIES\n",
    "    exits_0 = row_0.EXITS\n",
    "    \n",
    "    if abs(turnstiles.loc[idx][\"ENTRIES\"]) > 10000:\n",
    "        turnstiles.loc[idx][\"ENTRIES\"] = 0\n",
    "        turnstiles.loc[idx][\"EXITS\"] = 0\n",
    "\n",
    "def avg_exits(row):\n",
    "    if row.index[0] == \"01:00:00\":\n",
    "        return 1. * row.EXITS / 6\n",
    "    else:\n",
    "        return 1. * row.EXITS / 7\n",
    "    \n",
    "def avg_entries(row):\n",
    "    if row.index[0] == \"01:00:00\":\n",
    "        return 1. * row.ENTRIES / 6\n",
    "    else:\n",
    "        return 1. * row.ENTRIES / 7\n",
    "        \n",
    "data = turnstiles.reset_index().drop([\"DATE\"], axis=1).groupby([\"SCP\", \"TIME\"]).sum().reset_index().groupby([\"TIME\"]).sum()\n",
    "data[\"AVG_EXITS\"] = data.apply(avg_exits, axis=1)\n",
    "data[\"AVG_ENTRIES\"] = data.apply(avg_entries, axis=1)\n",
    "data[\"DIFF\"] = abs(data.AVG_EXITS - data.AVG_ENTRIES)\n",
    "data[\"SUM\"] = data.AVG_ENTRIES + data.AVG_EXITS\n",
    "data[data.AVG_EXITS > 100]"
   ]
  },
  {
   "cell_type": "code",
   "execution_count": 287,
   "metadata": {
    "collapsed": false
   },
   "outputs": [
    {
     "data": {
      "text/plain": [
       "<matplotlib.axes._subplots.AxesSubplot at 0x118639490>"
      ]
     },
     "execution_count": 287,
     "metadata": {},
     "output_type": "execute_result"
    },
    {
     "data": {
      "image/png": "[encoded data removed]",
      "text/plain": [
       "<matplotlib.figure.Figure at 0x124f57e50>"
      ]
     },
     "metadata": {},
     "output_type": "display_data"
    }
   ],
   "source": [
    "data[data.AVG_EXITS > 100][[\"DIFF\"]].plot(figsize=(14,4))"
   ]
  },
  {
   "cell_type": "code",
   "execution_count": null,
   "metadata": {
    "collapsed": false
   },
   "outputs": [],
   "source": [
    "data[data.AVG_EXITS > 100][[\"SUM\"]].plot(figsize=(14,4), marker=\"o\", ax=ax)"
   ]
  },
  {
   "cell_type": "code",
   "execution_count": null,
   "metadata": {
    "collapsed": true
   },
   "outputs": [],
   "source": []
  }
 ],
 "metadata": {
  "kernelspec": {
   "display_name": "Python 2",
   "language": "python",
   "name": "python2"
  },
  "language_info": {
   "codemirror_mode": {
    "name": "ipython",
    "version": 2
   },
   "file_extension": ".py",
   "mimetype": "text/x-python",
   "name": "python",
   "nbconvert_exporter": "python",
   "pygments_lexer": "ipython2",
   "version": "2.7.12"
  }
 },
 "nbformat": 4,
 "nbformat_minor": 2
}
